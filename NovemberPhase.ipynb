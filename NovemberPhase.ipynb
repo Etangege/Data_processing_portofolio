{
 "cells": [
  {
   "cell_type": "code",
   "execution_count": 54,
   "metadata": {},
   "outputs": [],
   "source": [
    "#module and extension import (Do not Change)\n",
    "import pandas as pd\n",
    "import numpy as np\n",
    "import gspread\n",
    "import re\n",
    "from df2gspread import df2gspread as d2g\n",
    "from oauth2client.service_account import ServiceAccountCredentials\n",
    "from datetime import date"
   ]
  },
  {
   "cell_type": "code",
   "execution_count": 55,
   "metadata": {},
   "outputs": [],
   "source": [
    "#initialize required variables (Do Not Change)\n",
    "scope = ['https://spreadsheets.google.com/feeds',\n",
    "            'https://www.googleapis.com/auth/drive']\n",
    "\n",
    "#service account key (Do Not Change)\n",
    "#google_account_key = 'UPVandLeads_Key.json'\n",
    "credentials = ServiceAccountCredentials.from_json_keyfile_name ('/Volumes/KINGSTON/Etang LLV/Report/November 2022/UPVandLeads_Key.json', scope)\n",
    "\n",
    "gc = gspread.authorize(credentials)"
   ]
  },
  {
   "cell_type": "code",
   "execution_count": 56,
   "metadata": {},
   "outputs": [],
   "source": [
    "#Data process 1 (jumlah UPV CMS) change file name to 'UPVLeadsJumlah.xlsx'\n",
    "dat1 = pd.read_excel('/Volumes/KINGSTON/Etang LLV/Report/November 2022/Data Beda/UPVLeadsJumlah.xlsx')\n",
    "dat1_inhouse = dat1[dat1['Agent Type'] == 'inhouse'].sort_values(\"Project\").drop(labels=['Leads'], axis=1)\n",
    "dat1_jv = dat1[dat1['Agent Type'] == 'inhouse_jv'].sort_values(\"Project\")\n",
    "dat1_ds = dat1[dat1['Agent Type'] == 'digital_sales'].sort_values(\"Project\").drop(labels=['Leads'], axis=1)"
   ]
  },
  {
   "cell_type": "code",
   "execution_count": 57,
   "metadata": {},
   "outputs": [],
   "source": [
    "#Data prcess 2 (Data CMS extract Email) Change file name to 'agentslist.xlsx'\n",
    "agent= pd.read_excel('/Volumes/KINGSTON/Etang LLV/Report/November 2022/Data Beda/agentslist.xlsx')\n",
    "active= agent[agent['Status'] != 'Nonactive']\n",
    "email = active.drop(columns= ['Phone', 'Type', 'Captain', 'Office', 'Project', 'Tanggal Pembuatan', 'URL Seller Page'])\n",
    "datmail_inhouse= pd.merge(dat1_inhouse, email, left_on='Referral Link', right_on='Unique Code').drop(columns='Nama_y')\n",
    "datmail_jv= pd.merge(dat1_jv, email, left_on='Referral Link', right_on='Unique Code').drop(columns='Nama_y')\n",
    "datmail_ds= pd.merge(dat1_ds, email, left_on='Referral Link', right_on='Unique Code').drop(columns='Nama_y')"
   ]
  },
  {
   "cell_type": "code",
   "execution_count": 58,
   "metadata": {},
   "outputs": [],
   "source": [
    "#Saving data 1 copy to each folder (Do Not Change)\n",
    "today = date.today().strftime('%m-%d-%Y')\n",
    "ext = '.xlsx'\n",
    "comp = today + ext\n",
    "\n",
    "datmail_inhouse.to_excel(r'/Volumes/KINGSTON/Etang LLV/Report/November 2022/Inhouse/Data-Inhouse-'+comp, index = False)\n",
    "datmail_jv.to_excel(r'/Volumes/KINGSTON/Etang LLV/Report/November 2022/inhouseJV/Data-JV-'+comp, index=False)\n",
    "datmail_ds.to_excel(r'/Volumes/KINGSTON/Etang LLV/Report/November 2022/DigitalSales/Data-DS-'+comp, index=False)"
   ]
  },
  {
   "cell_type": "code",
   "execution_count": 59,
   "metadata": {},
   "outputs": [],
   "source": [
    "#Data process 3 (cleaning SAP Leads data) change file name to 'SAPbetul'\n",
    "dat2 = pd.read_csv('/Volumes/KINGSTON/Etang LLV/Report/November 2022/Data Beda/SAPbetul.csv') #ganti path\n",
    "dat2.columns.str.match(\"Unnamed\")\n",
    "dat22 =dat2.loc[:,~dat2.columns.str.match(\"Unnamed\")]\n",
    "dat2_2nd = dat22.drop(columns=['Source - ReportingX', 'Phone', 'Year Month (Lead Submission Date)'])\n",
    "#dat2_2nd = dat2_1st[dat2_1st['Status'] != 'Dropped'] #.drop_duplicates(subset= 'Account', keep= 'first')\n",
    "dat2_2nd['Source1tf'] = dat2_2nd['Lead Source Name'].str.findall('ECAT.+') #Regex\n",
    "dat2_2nd['source2tf'] = dat2_2nd['Source'].str.findall('.+ecat.+') #Regex\n",
    "#dat2_2nd.to_excel(r'/Users/graceserenata23/Desktop/Etang LLV/UPV Leads Tracker App/test1.xlsx')\n",
    "#'Lead Source Name', 'Source',"
   ]
  },
  {
   "cell_type": "code",
   "execution_count": 60,
   "metadata": {},
   "outputs": [
    {
     "data": {
      "text/html": [
       "<div>\n",
       "<style scoped>\n",
       "    .dataframe tbody tr th:only-of-type {\n",
       "        vertical-align: middle;\n",
       "    }\n",
       "\n",
       "    .dataframe tbody tr th {\n",
       "        vertical-align: top;\n",
       "    }\n",
       "\n",
       "    .dataframe thead th {\n",
       "        text-align: right;\n",
       "    }\n",
       "</style>\n",
       "<table border=\"1\" class=\"dataframe\">\n",
       "  <thead>\n",
       "    <tr style=\"text-align: right;\">\n",
       "      <th></th>\n",
       "      <th>Lead</th>\n",
       "      <th>Lead ID</th>\n",
       "      <th>Lead Source Name</th>\n",
       "      <th>Lead Submission Date</th>\n",
       "      <th>Source - Reporting</th>\n",
       "      <th>Tag</th>\n",
       "      <th>utm_campaign</th>\n",
       "      <th>utm_content</th>\n",
       "      <th>Account</th>\n",
       "      <th>E-Mail</th>\n",
       "      <th>...</th>\n",
       "      <th>Tower/Cluster</th>\n",
       "      <th>ID of Successor Opportunity</th>\n",
       "      <th>Opportunity ID</th>\n",
       "      <th>All Leads</th>\n",
       "      <th>Accepted Leads</th>\n",
       "      <th>Reachable Leads</th>\n",
       "      <th>Follow Up Leads</th>\n",
       "      <th>Hot Prospect Leads</th>\n",
       "      <th>Won Leads</th>\n",
       "      <th>source_t/f</th>\n",
       "    </tr>\n",
       "  </thead>\n",
       "  <tbody>\n",
       "    <tr>\n",
       "      <th>206</th>\n",
       "      <td>Anderson</td>\n",
       "      <td>404093</td>\n",
       "      <td>ECATALOG-NONDD-LUMINA AT THE OSTARA-WHATSAPPEC...</td>\n",
       "      <td>11/18/2022</td>\n",
       "      <td>Online</td>\n",
       "      <td>agentecatalog</td>\n",
       "      <td>Organic</td>\n",
       "      <td>Organic</td>\n",
       "      <td>Anderson</td>\n",
       "      <td>#</td>\n",
       "      <td>...</td>\n",
       "      <td>Not assigned</td>\n",
       "      <td>Not assigned</td>\n",
       "      <td>#</td>\n",
       "      <td>1</td>\n",
       "      <td>1.0</td>\n",
       "      <td>1.0</td>\n",
       "      <td>1.0</td>\n",
       "      <td>NaN</td>\n",
       "      <td>NaN</td>\n",
       "      <td>['ECATALOG-NONDD-LUMINA AT THE OSTARA-WHATSAPP...</td>\n",
       "    </tr>\n",
       "    <tr>\n",
       "      <th>213</th>\n",
       "      <td>anna sofia</td>\n",
       "      <td>401285</td>\n",
       "      <td>ECATALOG-RESIDENTIAL-BSD RESIDENTIAL-CHAVA AT ...</td>\n",
       "      <td>11/14/2022</td>\n",
       "      <td>Online</td>\n",
       "      <td>ecatalogOrganic</td>\n",
       "      <td>Organic</td>\n",
       "      <td>Organic</td>\n",
       "      <td>anna sofia</td>\n",
       "      <td>annasofia@gmail.com</td>\n",
       "      <td>...</td>\n",
       "      <td>Tanakayu Jiva</td>\n",
       "      <td>anna sofia</td>\n",
       "      <td>53227</td>\n",
       "      <td>1</td>\n",
       "      <td>1.0</td>\n",
       "      <td>1.0</td>\n",
       "      <td>1.0</td>\n",
       "      <td>NaN</td>\n",
       "      <td>NaN</td>\n",
       "      <td>['ECATALOG-RESIDENTIAL-BSD RESIDENTIAL-CHAVA A...</td>\n",
       "    </tr>\n",
       "    <tr>\n",
       "      <th>331</th>\n",
       "      <td>Apartement Klaska Residences - Eva</td>\n",
       "      <td>407102</td>\n",
       "      <td>ECATALOG-DD-CLUSTER-KLASKA RESIDENCE/13827</td>\n",
       "      <td>11/23/2022</td>\n",
       "      <td>Online</td>\n",
       "      <td>FBIGOrganic</td>\n",
       "      <td>ecatalog_Organic</td>\n",
       "      <td>link_tree_ig_klaskaresidence_projectpage</td>\n",
       "      <td>Eva</td>\n",
       "      <td>evaevo13@gmail.com</td>\n",
       "      <td>...</td>\n",
       "      <td>Tower Azure</td>\n",
       "      <td>Not assigned</td>\n",
       "      <td>#</td>\n",
       "      <td>1</td>\n",
       "      <td>1.0</td>\n",
       "      <td>1.0</td>\n",
       "      <td>1.0</td>\n",
       "      <td>NaN</td>\n",
       "      <td>NaN</td>\n",
       "      <td>['ECATALOG-DD-CLUSTER-KLASKA RESIDENCE/13827']-[]</td>\n",
       "    </tr>\n",
       "    <tr>\n",
       "      <th>405</th>\n",
       "      <td>Apartement Klaska Residences - Lenci</td>\n",
       "      <td>407095</td>\n",
       "      <td>ECATALOG-NONDD-AZURE TOWER AT KLASKA RESIDENCE...</td>\n",
       "      <td>11/23/2022</td>\n",
       "      <td>Online</td>\n",
       "      <td>SMLWebsite</td>\n",
       "      <td>Digital_2021</td>\n",
       "      <td>WebsiteSML_eCatalog_Button_Klaska_Reside</td>\n",
       "      <td>Lenci</td>\n",
       "      <td>#</td>\n",
       "      <td>...</td>\n",
       "      <td>Tower Azure</td>\n",
       "      <td>Not assigned</td>\n",
       "      <td>#</td>\n",
       "      <td>1</td>\n",
       "      <td>1.0</td>\n",
       "      <td>1.0</td>\n",
       "      <td>NaN</td>\n",
       "      <td>NaN</td>\n",
       "      <td>NaN</td>\n",
       "      <td>['ECATALOG-NONDD-AZURE TOWER AT KLASKA RESIDEN...</td>\n",
       "    </tr>\n",
       "    <tr>\n",
       "      <th>452</th>\n",
       "      <td>Apartement Klaska Residences - Neni</td>\n",
       "      <td>405609</td>\n",
       "      <td>ECATALOG-APARTMENT-KLASKA RESIDENCE-AZURE TOWE...</td>\n",
       "      <td>11/21/2022</td>\n",
       "      <td>Online</td>\n",
       "      <td>agentecatalog</td>\n",
       "      <td>Organic</td>\n",
       "      <td>Organic</td>\n",
       "      <td>Neni</td>\n",
       "      <td>#</td>\n",
       "      <td>...</td>\n",
       "      <td>Tower Azure</td>\n",
       "      <td>Apartement Klaska Residences - Neni</td>\n",
       "      <td>53356</td>\n",
       "      <td>1</td>\n",
       "      <td>1.0</td>\n",
       "      <td>1.0</td>\n",
       "      <td>1.0</td>\n",
       "      <td>NaN</td>\n",
       "      <td>NaN</td>\n",
       "      <td>['ECATALOG-APARTMENT-KLASKA RESIDENCE-AZURE TO...</td>\n",
       "    </tr>\n",
       "  </tbody>\n",
       "</table>\n",
       "<p>5 rows × 30 columns</p>\n",
       "</div>"
      ],
      "text/plain": [
       "                                     Lead  Lead ID  \\\n",
       "206                              Anderson   404093   \n",
       "213                            anna sofia   401285   \n",
       "331    Apartement Klaska Residences - Eva   407102   \n",
       "405  Apartement Klaska Residences - Lenci   407095   \n",
       "452   Apartement Klaska Residences - Neni   405609   \n",
       "\n",
       "                                      Lead Source Name Lead Submission Date  \\\n",
       "206  ECATALOG-NONDD-LUMINA AT THE OSTARA-WHATSAPPEC...           11/18/2022   \n",
       "213  ECATALOG-RESIDENTIAL-BSD RESIDENTIAL-CHAVA AT ...           11/14/2022   \n",
       "331         ECATALOG-DD-CLUSTER-KLASKA RESIDENCE/13827           11/23/2022   \n",
       "405  ECATALOG-NONDD-AZURE TOWER AT KLASKA RESIDENCE...           11/23/2022   \n",
       "452  ECATALOG-APARTMENT-KLASKA RESIDENCE-AZURE TOWE...           11/21/2022   \n",
       "\n",
       "    Source - Reporting              Tag      utm_campaign  \\\n",
       "206             Online    agentecatalog           Organic   \n",
       "213             Online  ecatalogOrganic           Organic   \n",
       "331             Online      FBIGOrganic  ecatalog_Organic   \n",
       "405             Online       SMLWebsite      Digital_2021   \n",
       "452             Online    agentecatalog           Organic   \n",
       "\n",
       "                                  utm_content     Account  \\\n",
       "206                                   Organic    Anderson   \n",
       "213                                   Organic  anna sofia   \n",
       "331  link_tree_ig_klaskaresidence_projectpage         Eva   \n",
       "405  WebsiteSML_eCatalog_Button_Klaska_Reside       Lenci   \n",
       "452                                   Organic        Neni   \n",
       "\n",
       "                  E-Mail  ...  Tower/Cluster  \\\n",
       "206                    #  ...   Not assigned   \n",
       "213  annasofia@gmail.com  ...  Tanakayu Jiva   \n",
       "331   evaevo13@gmail.com  ...    Tower Azure   \n",
       "405                    #  ...    Tower Azure   \n",
       "452                    #  ...    Tower Azure   \n",
       "\n",
       "             ID of Successor Opportunity Opportunity ID All Leads  \\\n",
       "206                         Not assigned              #         1   \n",
       "213                           anna sofia          53227         1   \n",
       "331                         Not assigned              #         1   \n",
       "405                         Not assigned              #         1   \n",
       "452  Apartement Klaska Residences - Neni          53356         1   \n",
       "\n",
       "    Accepted Leads Reachable Leads Follow Up Leads Hot Prospect Leads  \\\n",
       "206            1.0             1.0             1.0                NaN   \n",
       "213            1.0             1.0             1.0                NaN   \n",
       "331            1.0             1.0             1.0                NaN   \n",
       "405            1.0             1.0             NaN                NaN   \n",
       "452            1.0             1.0             1.0                NaN   \n",
       "\n",
       "    Won Leads                                         source_t/f  \n",
       "206       NaN  ['ECATALOG-NONDD-LUMINA AT THE OSTARA-WHATSAPP...  \n",
       "213       NaN  ['ECATALOG-RESIDENTIAL-BSD RESIDENTIAL-CHAVA A...  \n",
       "331       NaN  ['ECATALOG-DD-CLUSTER-KLASKA RESIDENCE/13827']-[]  \n",
       "405       NaN  ['ECATALOG-NONDD-AZURE TOWER AT KLASKA RESIDEN...  \n",
       "452       NaN  ['ECATALOG-APARTMENT-KLASKA RESIDENCE-AZURE TO...  \n",
       "\n",
       "[5 rows x 30 columns]"
      ]
     },
     "execution_count": 60,
     "metadata": {},
     "output_type": "execute_result"
    }
   ],
   "source": [
    "#filtering Ecatalog Only (Do Not Change)\n",
    "dat2_2nd['source_t/f'] = dat2_2nd['Source1tf'].astype(str) + '-' + dat2_2nd['source2tf'].astype(str)\n",
    "dat3 = dat2_2nd[dat2_2nd['source_t/f'] != '[]-[]']\n",
    "dat3_2nd = dat3.drop(columns=['Source1tf', 'source2tf'])\n",
    "dat3_2nd.head(5)\n",
    "#dat3_2nd.to_excel(r'/Users/graceserenata23/Desktop/Etang LLV/UPV Leads Tracker App/saptest.xlsx')\n",
    "#dat2_2nd.to_excel(r'/Users/graceserenata23/Desktop/Etang LLV/UPV Leads Tracker App/test1.xlsx')"
   ]
  },
  {
   "cell_type": "code",
   "execution_count": 61,
   "metadata": {},
   "outputs": [],
   "source": [
    "#leads count per agent\n",
    "dat3_2nd['Leads'] = dat3_2nd['E-Mail-Marketing'].map(dat3_2nd['E-Mail-Marketing'].value_counts())\n",
    "dat3_email = dat3_2nd [['E-Mail-Marketing', 'Employee Responsible - Marketing', 'Leads']].drop_duplicates(subset='E-Mail-Marketing', keep='first')\n",
    "#dat3_2nd.head(5)\n",
    "#dat2count.to_excel(r'/Users/graceserenata23/Desktop/Etang LLV/UPV Leads Tracker App/testcount.xlsx', index= False)"
   ]
  },
  {
   "cell_type": "code",
   "execution_count": 62,
   "metadata": {},
   "outputs": [],
   "source": [
    "#Creating Customer Journey\n",
    "ney = dat3_2nd\n",
    "journey = []\n",
    "\n",
    "#making conditionals\n",
    "ney2 = ney[['All Leads', 'Accepted Leads', 'Reachable Leads', 'Follow Up Leads', 'Hot Prospect Leads', 'Won Leads']]\n",
    "ney['sum'] = ney2.count(axis=1)\n",
    "\n",
    "for row in ney['sum']:\n",
    "    if row == 1:\n",
    "        journey.append('All Leads')\n",
    "    elif row == 2:\n",
    "        journey.append('Accepted Leads')\n",
    "    elif row == 3:\n",
    "        journey.append('Reachable Leads')\n",
    "    elif row == 4:\n",
    "        journey.append('Follow Up Leads')\n",
    "    elif row == 5:\n",
    "        journey.append('Hot Prospect Leads')\n",
    "    elif row == 6:\n",
    "        journey.append('WON Leads') \n",
    "\n",
    "    else:\n",
    "        journey.append('NO JOURNEY')\n",
    "        \n",
    "ney['Journey'] = journey\n"
   ]
  },
  {
   "cell_type": "code",
   "execution_count": 63,
   "metadata": {},
   "outputs": [
    {
     "name": "stderr",
     "output_type": "stream",
     "text": [
      "/var/folders/3q/57swpd011mz8jfmw2_lj13480000gn/T/ipykernel_41844/2221631050.py:7: SettingWithCopyWarning: \n",
      "A value is trying to be set on a copy of a slice from a DataFrame.\n",
      "Try using .loc[row_indexer,col_indexer] = value instead\n",
      "\n",
      "See the caveats in the documentation: https://pandas.pydata.org/pandas-docs/stable/user_guide/indexing.html#returning-a-view-versus-a-copy\n",
      "  agentcode_in['email-lower'] = agentcode_in['Email'].str.lower()\n",
      "/var/folders/3q/57swpd011mz8jfmw2_lj13480000gn/T/ipykernel_41844/2221631050.py:8: SettingWithCopyWarning: \n",
      "A value is trying to be set on a copy of a slice from a DataFrame.\n",
      "Try using .loc[row_indexer,col_indexer] = value instead\n",
      "\n",
      "See the caveats in the documentation: https://pandas.pydata.org/pandas-docs/stable/user_guide/indexing.html#returning-a-view-versus-a-copy\n",
      "  agentcode_ds['email-lower'] = agentcode_ds['Email'].str.lower()\n",
      "/var/folders/3q/57swpd011mz8jfmw2_lj13480000gn/T/ipykernel_41844/2221631050.py:16: SettingWithCopyWarning: \n",
      "A value is trying to be set on a copy of a slice from a DataFrame.\n",
      "Try using .loc[row_indexer,col_indexer] = value instead\n",
      "\n",
      "See the caveats in the documentation: https://pandas.pydata.org/pandas-docs/stable/user_guide/indexing.html#returning-a-view-versus-a-copy\n",
      "  leadsv2['Project'] = leadsv2['Project V2']\n"
     ]
    }
   ],
   "source": [
    "#proses bentuk data SAP Leads\n",
    "leadsacc1 = ney.drop(columns= ['All Leads', 'Accepted Leads', 'Reachable Leads', 'Follow Up Leads', 'Hot Prospect Leads', 'Won Leads', 'Leads', 'sum'])\n",
    "\n",
    "leadsacc1['email-lower'] = leadsacc1['E-Mail-Marketing'].str.lower()\n",
    "agentcode_in = datmail_inhouse[['Unique Code', 'Email']]\n",
    "agentcode_ds = datmail_ds[['Unique Code', 'Email']]\n",
    "agentcode_in['email-lower'] = agentcode_in['Email'].str.lower()\n",
    "agentcode_ds['email-lower'] = agentcode_ds['Email'].str.lower()\n",
    "\n",
    "leadsacc2 = pd.merge(leadsacc1, agentcode_in, how= 'left')\n",
    "leadsacc3= pd.merge(leadsacc2, agentcode_ds, how= 'left')\n",
    "\n",
    "#project V2 agent\n",
    "leadsv1 = pd.read_csv('/Volumes/KINGSTON/Etang LLV/Report/November 2022/Data Fix/projectdancode.csv')\n",
    "leadsv2 = leadsv1[['Unique Code', 'Project V2']]\n",
    "leadsv2['Project'] = leadsv2['Project V2']\n",
    "sapmerge = pd.merge(leadsacc3, leadsv2, how= 'left')\n",
    "#leadsv2.to_excel(r'/Users/graceserenata23/Desktop/Etang LLV/UPV Leads Tracker App/testfile/testproj.xlsx')\n",
    "\n",
    "#BSDTeam\n",
    "team1 = pd.read_csv('/Volumes/KINGSTON/Etang LLV/Report/November 2022/Data Fix/BSDteam.csv')\n",
    "team2 = team1[['Unique Code', 'BSD Team2']]\n",
    "sapmerge2 = pd.merge(sapmerge, team2, how= 'left').drop(columns=['source_t/f', 'Project V2', 'email-lower']).rename(columns={'BSD Team2':'BSD Team'})\n",
    "#sapmerge2.head(5)\n",
    "\n",
    "#Lead Nature\n",
    "Ln = pd.read_excel('/Volumes/KINGSTON/Etang LLV/Report/November 2022/Data Beda/enquiries.xlsx')\n",
    "Ln1 = Ln[['Lead Nature', 'Type', 'Unique Code']].drop_duplicates(subset='Unique Code', keep='first')\n",
    "sapmerge3 = pd.merge(sapmerge2, Ln1, how= 'left')"
   ]
  },
  {
   "cell_type": "code",
   "execution_count": 64,
   "metadata": {},
   "outputs": [],
   "source": [
    "#merging procedure to count Leads (Inhouse)\n",
    "dat3_email['email-lower'] = dat3_email['E-Mail-Marketing'].str.lower()\n",
    "datmail_inhouse['email-lower'] = datmail_inhouse['Email'].str.lower()\n",
    "\n",
    "merge_in= pd.merge(dat3_email, datmail_inhouse, how= 'outer')\n",
    "merge_indrop = merge_in.drop(columns= ['E-Mail-Marketing', 'email-lower', 'Referral Link', 'Employee Responsible - Marketing']).dropna(subset= ['Unique Code'])\n",
    "merge_indrop['UPV'] = merge_indrop['UPV']\n",
    "merge_indrop['Leads'] = merge_indrop['Leads'].fillna(0)\n",
    "merge_indrop2= merge_indrop[['Unique Code', 'Nama_x', 'Project', 'Agent Type', 'Email', 'Status', 'UPV', 'Leads']]\n",
    "\n",
    "#changing project to project V2\n",
    "leadsnoproj = leadsv2.drop(columns=['Project'])\n",
    "merge_in2 = pd.merge(merge_indrop2, leadsnoproj, how='left')\n",
    "#adding bsd team\n",
    "merge_in3 = pd.merge(merge_in2, team2, how= 'left').drop(columns= ['Project']).rename(columns= {'BSD Team2':'BSD Team', 'Project V2':'Project', 'Nama_x':'Nama Agent'} )\n",
    "merge_in3.to_excel(r'/Volumes/KINGSTON/Etang LLV/Report/November 2022/Inhouse/InhouseMerge.xlsx'+comp, index= False)"
   ]
  },
  {
   "cell_type": "code",
   "execution_count": 65,
   "metadata": {},
   "outputs": [
    {
     "name": "stderr",
     "output_type": "stream",
     "text": [
      "/var/folders/3q/57swpd011mz8jfmw2_lj13480000gn/T/ipykernel_41844/3862144713.py:1: FutureWarning: The pandas.np module is deprecated and will be removed from pandas in a future version. Import numpy directly instead.\n",
      "  merge_in3.loc['Total'] = merge_in3.select_dtypes(pd.np.number).sum().fillna(0)\n"
     ]
    }
   ],
   "source": [
    "merge_in3.loc['Total'] = merge_in3.select_dtypes(pd.np.number).sum().fillna(0)"
   ]
  },
  {
   "cell_type": "code",
   "execution_count": 66,
   "metadata": {},
   "outputs": [
    {
     "name": "stderr",
     "output_type": "stream",
     "text": [
      "/var/folders/3q/57swpd011mz8jfmw2_lj13480000gn/T/ipykernel_41844/2937773260.py:10: SettingWithCopyWarning: \n",
      "A value is trying to be set on a copy of a slice from a DataFrame.\n",
      "Try using .loc[row_indexer,col_indexer] = value instead\n",
      "\n",
      "See the caveats in the documentation: https://pandas.pydata.org/pandas-docs/stable/user_guide/indexing.html#returning-a-view-versus-a-copy\n",
      "  enq2['Lead'] = enq2['Agent Email'].map(enq2['Agent Email'].value_counts())\n",
      "/var/folders/3q/57swpd011mz8jfmw2_lj13480000gn/T/ipykernel_41844/2937773260.py:13: FutureWarning: The pandas.np module is deprecated and will be removed from pandas in a future version. Import numpy directly instead.\n",
      "  jv.loc['Total'] = jv.select_dtypes(pd.np.number).sum()\n"
     ]
    }
   ],
   "source": [
    "#JV data CMS only\n",
    "datmail_jv2 = datmail_jv[['Unique Code', 'Nama_x', 'Project', 'Agent Type', 'Email', 'Status', 'UPV', 'Leads']].rename(columns={'Nama_x':'Nama Agent'})\n",
    "#datmail_jv2.loc['Total'] = datmail_jv2.select_dtypes(pd.np.number).sum()\n",
    "\n",
    "#finding leads on enquiries\n",
    "enq2 = Ln[Ln['Is Duplicate'] != 'YES']\n",
    "enq22 = enq2[enq2['Agent Type'] == 'inhouse_jv']\n",
    "\n",
    "#merging leads to jv only\n",
    "enq2['Lead'] = enq2['Agent Email'].map(enq2['Agent Email'].value_counts())\n",
    "enq3 = enq2[['Unique Code','Lead']].drop_duplicates(subset='Unique Code', keep= 'first')\n",
    "jv = pd.merge(datmail_jv2, enq3, how= 'left').fillna(0).drop(columns=['Leads'])\n",
    "jv.loc['Total'] = jv.select_dtypes(pd.np.number).sum()\n"
   ]
  },
  {
   "cell_type": "code",
   "execution_count": 67,
   "metadata": {},
   "outputs": [],
   "source": [
    "#merging procedure to count Leads (Digital Sales)\n",
    "datmail_ds['email-lower'] = datmail_ds['Email'].str.lower()\n",
    "\n",
    "merge_ds = pd.merge(dat3_email, datmail_ds, how= 'outer')\n",
    "merge_dsdrop = merge_ds.drop(columns= ['E-Mail-Marketing', 'email-lower', 'Referral Link', 'Employee Responsible - Marketing']).dropna(subset= ['Unique Code'])\n",
    "merge_dsdrop['UPV'] = merge_dsdrop['UPV']\n",
    "merge_dsdrop['Leads'] = merge_dsdrop['Leads'].fillna(0)\n",
    "merge_dsdrop2= merge_dsdrop[['Unique Code', 'Nama_x', 'Project', 'Agent Type', 'Email', 'Status', 'UPV', 'Leads']].rename(columns={'Nama_x':'Nama Agent'})\n",
    "merge_dsdrop2.to_excel(r'/Volumes/KINGSTON/Etang LLV/Report/November 2022/DigitalSales/DSMerge.xlsx'+comp, index= False)"
   ]
  },
  {
   "cell_type": "code",
   "execution_count": 68,
   "metadata": {},
   "outputs": [
    {
     "name": "stderr",
     "output_type": "stream",
     "text": [
      "/var/folders/3q/57swpd011mz8jfmw2_lj13480000gn/T/ipykernel_41844/434504865.py:1: FutureWarning: The pandas.np module is deprecated and will be removed from pandas in a future version. Import numpy directly instead.\n",
      "  merge_dsdrop2.loc['Total'] = merge_dsdrop2.select_dtypes(pd.np.number).sum().fillna(0)\n"
     ]
    }
   ],
   "source": [
    "merge_dsdrop2.loc['Total'] = merge_dsdrop2.select_dtypes(pd.np.number).sum().fillna(0)"
   ]
  },
  {
   "cell_type": "code",
   "execution_count": 69,
   "metadata": {},
   "outputs": [
    {
     "name": "stderr",
     "output_type": "stream",
     "text": [
      "/var/folders/3q/57swpd011mz8jfmw2_lj13480000gn/T/ipykernel_41844/2669421085.py:4: FutureWarning: The pandas.np module is deprecated and will be removed from pandas in a future version. Import numpy directly instead.\n",
      "  Na['Total'] = Na.select_dtypes(pd.np.number).sum().fillna(0)\n",
      "/var/folders/3q/57swpd011mz8jfmw2_lj13480000gn/T/ipykernel_41844/2669421085.py:4: SettingWithCopyWarning: \n",
      "A value is trying to be set on a copy of a slice from a DataFrame.\n",
      "Try using .loc[row_indexer,col_indexer] = value instead\n",
      "\n",
      "See the caveats in the documentation: https://pandas.pydata.org/pandas-docs/stable/user_guide/indexing.html#returning-a-view-versus-a-copy\n",
      "  Na['Total'] = Na.select_dtypes(pd.np.number).sum().fillna(0)\n"
     ]
    }
   ],
   "source": [
    "#Not assigned Leads\n",
    "dat3_3rd = dat3_2nd[dat3_2nd['Employee Responsible - Marketing'] == 'Not assigned']\n",
    "Na = dat3_3rd[['Lead', 'Lead ID', 'Lead Source Name', 'Account', 'Mobile', 'Status', 'Employee Responsible - Marketing', 'Sales Unit', 'Project/Kawasan', 'Reason for Status', 'All Leads', 'Journey']]\n",
    "Na['Total'] = Na.select_dtypes(pd.np.number).sum().fillna(0)"
   ]
  },
  {
   "cell_type": "code",
   "execution_count": 70,
   "metadata": {},
   "outputs": [
    {
     "data": {
      "text/plain": [
       "<Worksheet 'Data-CMS' id:648469926>"
      ]
     },
     "execution_count": 70,
     "metadata": {},
     "output_type": "execute_result"
    }
   ],
   "source": [
    "#This is WorkSheet ID\n",
    "Sheet_id = '1FdcvQTLrRfro-x6lQz9dq-MLrsgQnzwoTP7JSlyTJq4'\n",
    "#This is Sheet Name\n",
    "Sheet_inhouse = 'Inhouse'\n",
    "Sheet_JV = 'Inhouse-JV'\n",
    "Sheet_DS = 'Digital-Sales'\n",
    "Sheet_NA = 'Not assigned'\n",
    "Sheet_SAP = 'Data-SAP'\n",
    "Sheet_CMS = 'Data-CMS'\n",
    "\n",
    "#Upload Command\n",
    "d2g.upload(merge_in3, Sheet_id, Sheet_inhouse, credentials= credentials, row_names= False)\n",
    "d2g.upload(jv, Sheet_id, Sheet_JV, credentials= credentials, row_names= False)\n",
    "d2g.upload(merge_dsdrop2, Sheet_id, Sheet_DS, credentials= credentials, row_names= False)\n",
    "d2g.upload(Na, Sheet_id, Sheet_NA, credentials= credentials, row_names= False)\n",
    "d2g.upload(sapmerge3, Sheet_id, Sheet_SAP, credentials= credentials, row_names= False)\n",
    "d2g.upload(enq22, Sheet_id, Sheet_CMS, credentials= credentials, row_names= False)"
   ]
  },
  {
   "cell_type": "code",
   "execution_count": null,
   "metadata": {},
   "outputs": [],
   "source": []
  }
 ],
 "metadata": {
  "kernelspec": {
   "display_name": "Python 3.10.6 64-bit",
   "language": "python",
   "name": "python3"
  },
  "language_info": {
   "codemirror_mode": {
    "name": "ipython",
    "version": 3
   },
   "file_extension": ".py",
   "mimetype": "text/x-python",
   "name": "python",
   "nbconvert_exporter": "python",
   "pygments_lexer": "ipython3",
   "version": "3.10.6"
  },
  "orig_nbformat": 4,
  "vscode": {
   "interpreter": {
    "hash": "aee8b7b246df8f9039afb4144a1f6fd8d2ca17a180786b69acc140d282b71a49"
   }
  }
 },
 "nbformat": 4,
 "nbformat_minor": 2
}
