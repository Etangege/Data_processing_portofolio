{
 "cells": [
  {
   "cell_type": "code",
   "execution_count": null,
   "metadata": {},
   "outputs": [],
   "source": [
    "#module and extension import (Do not Change)\n",
    "import pandas as pd\n",
    "import numpy as np\n",
    "import gspread\n",
    "import re\n",
    "from df2gspread import df2gspread as d2g\n",
    "from oauth2client.service_account import ServiceAccountCredentials\n",
    "from datetime import date"
   ]
  },
  {
   "cell_type": "code",
   "execution_count": null,
   "metadata": {},
   "outputs": [],
   "source": [
    "#initialize required variables (Do Not Change)\n",
    "scope = ['https://spreadsheets.google.com/feeds',\n",
    "            'https://www.googleapis.com/auth/drive']\n",
    "\n",
    "#service account key (Do Not Change)\n",
    "#google_account_key = 'UPVandLeads_Key.json'\n",
    "credentials = ServiceAccountCredentials.from_json_keyfile_name ('/ADDPATH.json', scope)\n",
    "\n",
    "gc = gspread.authorize(credentials)"
   ]
  },
  {
   "cell_type": "code",
   "execution_count": null,
   "metadata": {},
   "outputs": [],
   "source": [
    "#Data process 1 (jumlah UPV DATABASE1) change file name to 'PREFERRED.xlsx'\n",
    "dat1 = pd.read_excel('/FILEPATH/PREFERRED.xlsx')\n",
    "dat1_inhouse = dat1[dat1['Agent Type'] == 'inhouse'].sort_values(\"Project\").drop(labels=['Leads'], axis=1)\n",
    "dat1_jv = dat1[dat1['Agent Type'] == 'inhouse_jv'].sort_values(\"Project\")\n",
    "dat1_ds = dat1[dat1['Agent Type'] == 'digital_sales'].sort_values(\"Project\").drop(labels=['Leads'], axis=1)\n",
    "dat1_ex = dat1[dat1['Agent Type'] == 'External Agent'].sort_values(\"Project\").drop(labels= ['Leads'], axis=1)"
   ]
  },
  {
   "cell_type": "code",
   "execution_count": null,
   "metadata": {},
   "outputs": [],
   "source": [
    "#Data prcess 2 (Data DATABASE1 extract Email) Change file name to 'PREFERRED2.xlsx'\n",
    "agent= pd.read_excel('/FILEPATH/PREFERRED2.xlsx')\n",
    "active= agent[agent['Status'] != 'Nonactive']\n",
    "email = active.drop(columns= ['Phone', 'Type', 'Captain', 'Office', 'Project', 'Tanggal Pembuatan', 'URL Seller Page'])\n",
    "datmail_inhouse= pd.merge(dat1_inhouse, email, left_on='Referral Link', right_on='Unique Code').drop(columns='Nama_y')\n",
    "datmail_jv= pd.merge(dat1_jv, email, left_on='Referral Link', right_on='Unique Code').drop(columns='Nama_y')\n",
    "datmail_ds= pd.merge(dat1_ds, email, left_on='Referral Link', right_on='Unique Code').drop(columns='Nama_y')"
   ]
  },
  {
   "cell_type": "code",
   "execution_count": null,
   "metadata": {},
   "outputs": [],
   "source": [
    "#Saving data 1 copy to each folder (Do Not Change)\n",
    "today = date.today().strftime('%m-%d-%Y')\n",
    "ext = '.xlsx'\n",
    "comp = today + ext\n",
    "\n",
    "datmail_inhouse.to_excel(r'/FILEPATH/Data1'+comp, index = False)\n",
    "datmail_jv.to_excel(r'/FILEPATH/DATA2'+comp, index=False)\n",
    "datmail_ds.to_excel(r'/FILEPATH/DATA3'+comp, index=False)"
   ]
  },
  {
   "cell_type": "code",
   "execution_count": null,
   "metadata": {},
   "outputs": [],
   "source": [
    "#Data process 3 (cleaning SAP Leads data) change file name to 'PREFERRED3.csv'\n",
    "dat2 = pd.read_csv('/FILEPATH/PREFFERED3.csv') #ganti path\n",
    "dat2.columns.str.match(\"Unnamed\")\n",
    "dat22 =dat2.loc[:,~dat2.columns.str.match(\"Unnamed\")]\n",
    "dat2_2nd = dat22.drop(columns=['Source - ReportingX', 'Phone', 'Year Month (Lead Submission Date)'])\n",
    "dat2_2nd['Source1tf'] = dat2_2nd['Lead Source Name'].str.findall('ECAT.+') #Regex\n",
    "dat2_2nd['source2tf'] = dat2_2nd['Source'].str.findall('.+ecat.+') #Regex"
   ]
  },
  {
   "cell_type": "code",
   "execution_count": null,
   "metadata": {},
   "outputs": [],
   "source": [
    "#filtering SPECIFIC Only (Do Not Change)\n",
    "dat2_2nd['source_t/f'] = dat2_2nd['Source1tf'].astype(str) + '-' + dat2_2nd['source2tf'].astype(str)\n",
    "dat3 = dat2_2nd[dat2_2nd['source_t/f'] != '[]-[]']\n",
    "dat3_2nd = dat3.drop(columns=['Source1tf', 'source2tf'])\n",
    "dat3_2nd.head(5)"
   ]
  },
  {
   "cell_type": "code",
   "execution_count": null,
   "metadata": {},
   "outputs": [],
   "source": [
    "#leads count per agent\n",
    "dat3_2nd['Leads'] = dat3_2nd['E-Mail-Marketing'].map(dat3_2nd['E-Mail-Marketing'].value_counts())\n",
    "dat3_email = dat3_2nd [['E-Mail-Marketing', 'Employee Responsible - Marketing', 'Leads']].drop_duplicates(subset='E-Mail-Marketing', keep='first')"
   ]
  },
  {
   "cell_type": "code",
   "execution_count": null,
   "metadata": {},
   "outputs": [],
   "source": [
    "#Creating Customer Journey\n",
    "ney = dat3_2nd\n",
    "journey = []\n",
    "\n",
    "#making conditionals\n",
    "ney2 = ney[['All Leads', 'Accepted Leads', 'Reachable Leads', 'Follow Up Leads', 'Hot Prospect Leads', 'Won Leads']]\n",
    "ney['sum'] = ney2.count(axis=1)\n",
    "\n",
    "for row in ney['sum']:\n",
    "    if row == 1:\n",
    "        journey.append('All Leads')\n",
    "    elif row == 2:\n",
    "        journey.append('Accepted Leads')\n",
    "    elif row == 3:\n",
    "        journey.append('Reachable Leads')\n",
    "    elif row == 4:\n",
    "        journey.append('Follow Up Leads')\n",
    "    elif row == 5:\n",
    "        journey.append('Hot Prospect Leads')\n",
    "    elif row == 6:\n",
    "        journey.append('WON Leads') \n",
    "\n",
    "    else:\n",
    "        journey.append('NO JOURNEY')\n",
    "        \n",
    "ney['Journey'] = journey\n"
   ]
  },
  {
   "cell_type": "code",
   "execution_count": null,
   "metadata": {},
   "outputs": [],
   "source": [
    "#creating SAP data Leads\n",
    "leadsacc1 = ney.drop(columns= ['All Leads', 'Accepted Leads', 'Reachable Leads', 'Follow Up Leads', 'Hot Prospect Leads', 'Won Leads', 'Leads', 'sum'])\n",
    "\n",
    "leadsacc1['email-lower'] = leadsacc1['E-Mail-Marketing'].str.lower()\n",
    "agentcode_in = datmail_inhouse[['Unique Code', 'Email']]\n",
    "agentcode_ds = datmail_ds[['Unique Code', 'Email']]\n",
    "agentcode_in['email-lower'] = agentcode_in['Email'].str.lower()\n",
    "agentcode_ds['email-lower'] = agentcode_ds['Email'].str.lower()\n",
    "\n",
    "leadsacc2 = pd.merge(leadsacc1, agentcode_in, how= 'left')\n",
    "leadsacc3= pd.merge(leadsacc2, agentcode_ds, how= 'left')\n",
    "\n",
    "#project V2 agent\n",
    "leadsv1 = pd.read_csv('/FILEPATH/FIXDATA1.csv')\n",
    "leadsv2 = leadsv1[['Unique Code', 'Project V2']]\n",
    "leadsv2['Project'] = leadsv2['Project V2']\n",
    "sapmerge = pd.merge(leadsacc3, leadsv2, how= 'left')\n",
    "\n",
    "#BSDTeam\n",
    "team1 = pd.read_csv('/FILEPATH/FIXDATA2.csv')\n",
    "team2 = team1[['Unique Code', 'BSD Team2']]\n",
    "sapmerge2 = pd.merge(sapmerge, team2, how= 'left').drop(columns=['source_t/f', 'Project V2', 'email-lower']).rename(columns={'BSD Team2':'BSD Team'})\n",
    "#sapmerge2.head(5)\n",
    "\n",
    "#Lead Nature\n",
    "Ln = pd.read_excel('/FILEPATH/DF.xlsx')\n",
    "Ln1 = Ln[['Lead Nature', 'Type', 'No Hp']].drop_duplicates(subset='No Hp', keep='first')\n",
    "sapmerge3 = pd.merge(sapmerge2, Ln1,left_on= 'Mobile', right_on= 'No Hp', how= 'left')"
   ]
  },
  {
   "cell_type": "code",
   "execution_count": null,
   "metadata": {},
   "outputs": [],
   "source": [
    "#merging procedure to count Leads (Inhouse)\n",
    "dat3_email['email-lower'] = dat3_email['E-Mail-Marketing'].str.lower()\n",
    "datmail_inhouse['email-lower'] = datmail_inhouse['Email'].str.lower()\n",
    "\n",
    "merge_in= pd.merge(dat3_email, datmail_inhouse, how= 'outer')\n",
    "merge_indrop = merge_in.drop(columns= ['E-Mail-Marketing', 'email-lower', 'Referral Link', 'Employee Responsible - Marketing']).dropna(subset= ['Unique Code'])\n",
    "merge_indrop['UPV'] = merge_indrop['UPV']\n",
    "merge_indrop['Leads'] = merge_indrop['Leads'].fillna(0)\n",
    "merge_indrop2= merge_indrop[['Unique Code', 'Nama_x', 'Project', 'Agent Type', 'Email', 'Status', 'UPV', 'Leads']]\n",
    "\n",
    "#changing project to project V2\n",
    "leadsnoproj = leadsv2.drop(columns=['Project'])\n",
    "merge_in2 = pd.merge(merge_indrop2, leadsnoproj, how='left')\n",
    "#adding team\n",
    "merge_in3 = pd.merge(merge_in2, team2, how= 'left').drop(columns= ['Project']).rename(columns= {'BSD Team2':'BSD Team', 'Project V2':'Project', 'Nama_x':'Nama Agent'} )\n",
    "merge_in3.to_excel(r'/FILEPATH/DFMerge1.xlsx'+comp, index= False)"
   ]
  },
  {
   "cell_type": "code",
   "execution_count": null,
   "metadata": {},
   "outputs": [],
   "source": [
    "merge_in3.loc['Total'] = merge_in3.select_dtypes(pd.np.number).sum().fillna(0)"
   ]
  },
  {
   "cell_type": "code",
   "execution_count": null,
   "metadata": {},
   "outputs": [],
   "source": [
    "#JV data CMS only\n",
    "datmail_jv2 = datmail_jv[['Unique Code', 'Nama_x', 'Project', 'Agent Type', 'Email', 'Status', 'UPV', 'Leads']].rename(columns={'Nama_x':'Nama Agent'})\n",
    "\n",
    "#finding leads on enquiries\n",
    "enq2 = Ln[Ln['Is Duplicate'] != 'YES']\n",
    "enq22 = enq2[enq2['Agent Type'] != 'inhouse']\n",
    "enq222 = enq22[enq22['Agent Type'] != 'digital_sales']\n",
    "\n",
    "jv_v2= datmail_jv2[['Unique Code', 'Project']].drop_duplicates(subset='Unique Code', keep= 'first')\n",
    "enq_cms= pd.merge(enq222, jv_v2, how ='left')\n",
    "\n",
    "#merging leads to jv only\n",
    "enq2['Lead'] = enq2['Agent Email'].map(enq2['Agent Email'].value_counts())\n",
    "enq3 = enq2[['Unique Code','Lead']].drop_duplicates(subset='Unique Code', keep= 'first')\n",
    "jv = pd.merge(datmail_jv2, enq3, how= 'left').fillna(0).drop(columns=['Leads'])\n",
    "jv.loc['Total'] = jv.select_dtypes(pd.np.number).sum()\n"
   ]
  },
  {
   "cell_type": "code",
   "execution_count": null,
   "metadata": {},
   "outputs": [],
   "source": [
    "#merging procedure to count Leads (Digital Sales)\n",
    "datmail_ds['email-lower'] = datmail_ds['Email'].str.lower()\n",
    "\n",
    "merge_ds = pd.merge(dat3_email, datmail_ds, how= 'outer')\n",
    "merge_dsdrop = merge_ds.drop(columns= ['E-Mail-Marketing', 'email-lower', 'Referral Link', 'Employee Responsible - Marketing']).dropna(subset= ['Unique Code'])\n",
    "merge_dsdrop['UPV'] = merge_dsdrop['UPV']\n",
    "merge_dsdrop['Leads'] = merge_dsdrop['Leads'].fillna(0)\n",
    "merge_dsdrop2= merge_dsdrop[['Unique Code', 'Nama_x', 'Project', 'Agent Type', 'Email', 'Status', 'UPV', 'Leads']].rename(columns={'Nama_x':'Nama Agent'})\n",
    "merge_dsdrop2.to_excel(r'/FILEPATH/DFMerge2.xlsx'+comp, index= False)"
   ]
  },
  {
   "cell_type": "code",
   "execution_count": null,
   "metadata": {},
   "outputs": [],
   "source": [
    "merge_dsdrop2.loc['Total'] = merge_dsdrop2.select_dtypes(pd.np.number).sum().fillna(0)"
   ]
  },
  {
   "cell_type": "code",
   "execution_count": null,
   "metadata": {},
   "outputs": [],
   "source": [
    "#Not assigned Leads\n",
    "dat3_3rd = dat3_2nd[dat3_2nd['Employee Responsible - Marketing'] == 'Not assigned']\n",
    "t= Ln[['No Hp', 'Type']]\n",
    "Ns= dat3_3rd[['Lead', 'Lead ID', 'Lead Source Name', 'Account', 'Mobile', 'Status', 'Employee Responsible - Marketing', 'Sales Unit', 'Project/Kawasan', 'Reason for Status', 'All Leads', 'Journey']]\n",
    "Na= pd.merge(Ns, t, left_on= 'Mobile', right_on='No Hp', how= 'left')\n",
    "Na.loc['Total'] = Na.select_dtypes(pd.np.number).sum().fillna(0)"
   ]
  },
  {
   "cell_type": "code",
   "execution_count": null,
   "metadata": {},
   "outputs": [],
   "source": [
    "#This is WorkSheet ID\n",
    "Sheet_id = 'INPUT-GOOGLESHEET-ID'\n",
    "#This is Sheet Name\n",
    "Sheet_inhouse = 'Inhouse'\n",
    "Sheet_JV = 'Inhouse-JV'\n",
    "Sheet_DS = 'Digital-Sales'\n",
    "Sheet_EX = 'External-Agent'\n",
    "Sheet_NA = 'Not assigned'\n",
    "Sheet_SAP = 'Data-SAP'\n",
    "Sheet_CMS = 'Data-CMS'\n",
    "Sheet_cmsfull= 'CMS'\n",
    "\n",
    "#Upload Command\n",
    "d2g.upload(merge_in3, Sheet_id, Sheet_inhouse, credentials= credentials, row_names= False)\n",
    "d2g.upload(jv, Sheet_id, Sheet_JV, credentials= credentials, row_names= False)\n",
    "d2g.upload(merge_dsdrop2, Sheet_id, Sheet_DS, credentials= credentials, row_names= False)\n",
    "d2g.upload(Na, Sheet_id, Sheet_NA, credentials= credentials, row_names= False)"
   ]
  },
  {
   "cell_type": "code",
   "execution_count": null,
   "metadata": {},
   "outputs": [],
   "source": [
    "d2g.upload(sapmerge3, Sheet_id, Sheet_SAP, credentials= credentials, row_names= False)\n",
    "d2g.upload(enq_cms, Sheet_id, Sheet_CMS, credentials= credentials, row_names= False)\n",
    "d2g.upload(Ln, Sheet_id, Sheet_cmsfull, credentials= credentials, row_names= False)"
   ]
  },
  {
   "cell_type": "code",
   "execution_count": null,
   "metadata": {},
   "outputs": [],
   "source": []
  }
 ],
 "metadata": {
  "kernelspec": {
   "display_name": "Python 3.10.6 64-bit",
   "language": "python",
   "name": "python3"
  },
  "language_info": {
   "codemirror_mode": {
    "name": "ipython",
    "version": 3
   },
   "file_extension": ".py",
   "mimetype": "text/x-python",
   "name": "python",
   "nbconvert_exporter": "python",
   "pygments_lexer": "ipython3",
   "version": "3.10.6"
  },
  "orig_nbformat": 4,
  "vscode": {
   "interpreter": {
    "hash": "aee8b7b246df8f9039afb4144a1f6fd8d2ca17a180786b69acc140d282b71a49"
   }
  }
 },
 "nbformat": 4,
 "nbformat_minor": 2
}
